{
 "cells": [
  {
   "cell_type": "code",
   "execution_count": 192,
   "metadata": {},
   "outputs": [],
   "source": [
    "from matplotlib import pyplot as plt\n",
    "from sklearn.metrics import roc_curve, roc_auc_score"
   ]
  },
  {
   "cell_type": "code",
   "execution_count": 193,
   "metadata": {},
   "outputs": [],
   "source": [
    "import pandas as pd\n",
    "import numpy as np\n",
    "import \n",
    "canset=pd.read_csv('Reduced_Sample_Homework_Week6.csv')\n"
   ]
  },
  {
   "cell_type": "code",
   "execution_count": 194,
   "metadata": {},
   "outputs": [
    {
     "data": {
      "text/html": [
       "<div>\n",
       "<style scoped>\n",
       "    .dataframe tbody tr th:only-of-type {\n",
       "        vertical-align: middle;\n",
       "    }\n",
       "\n",
       "    .dataframe tbody tr th {\n",
       "        vertical-align: top;\n",
       "    }\n",
       "\n",
       "    .dataframe thead th {\n",
       "        text-align: right;\n",
       "    }\n",
       "</style>\n",
       "<table border=\"1\" class=\"dataframe\">\n",
       "  <thead>\n",
       "    <tr style=\"text-align: right;\">\n",
       "      <th></th>\n",
       "      <th>chcscncr</th>\n",
       "      <th>chcocncr</th>\n",
       "      <th>smoke100</th>\n",
       "      <th>smokday2</th>\n",
       "      <th>stopsmk2</th>\n",
       "      <th>lastsmk2</th>\n",
       "      <th>usenow3</th>\n",
       "      <th>ecigaret</th>\n",
       "      <th>ecignow</th>\n",
       "      <th>alcday5</th>\n",
       "      <th>...</th>\n",
       "      <th>potatoe1</th>\n",
       "      <th>vegetab2</th>\n",
       "      <th>exerany2</th>\n",
       "      <th>exract11</th>\n",
       "      <th>exeroft1</th>\n",
       "      <th>exerhmm1</th>\n",
       "      <th>exract21</th>\n",
       "      <th>exeroft2</th>\n",
       "      <th>exerhmm2</th>\n",
       "      <th>strength</th>\n",
       "    </tr>\n",
       "  </thead>\n",
       "  <tbody>\n",
       "    <tr>\n",
       "      <th>0</th>\n",
       "      <td>2.0</td>\n",
       "      <td>2.0</td>\n",
       "      <td>2.0</td>\n",
       "      <td>NaN</td>\n",
       "      <td>NaN</td>\n",
       "      <td>NaN</td>\n",
       "      <td>3.0</td>\n",
       "      <td>2.0</td>\n",
       "      <td>NaN</td>\n",
       "      <td>888.0</td>\n",
       "      <td>...</td>\n",
       "      <td>201.0</td>\n",
       "      <td>101.0</td>\n",
       "      <td>1.0</td>\n",
       "      <td>6.0</td>\n",
       "      <td>103.0</td>\n",
       "      <td>30.0</td>\n",
       "      <td>54.0</td>\n",
       "      <td>103.0</td>\n",
       "      <td>30.0</td>\n",
       "      <td>103.0</td>\n",
       "    </tr>\n",
       "    <tr>\n",
       "      <th>1</th>\n",
       "      <td>2.0</td>\n",
       "      <td>2.0</td>\n",
       "      <td>2.0</td>\n",
       "      <td>NaN</td>\n",
       "      <td>NaN</td>\n",
       "      <td>NaN</td>\n",
       "      <td>3.0</td>\n",
       "      <td>2.0</td>\n",
       "      <td>NaN</td>\n",
       "      <td>888.0</td>\n",
       "      <td>...</td>\n",
       "      <td>555.0</td>\n",
       "      <td>101.0</td>\n",
       "      <td>1.0</td>\n",
       "      <td>34.0</td>\n",
       "      <td>102.0</td>\n",
       "      <td>100.0</td>\n",
       "      <td>64.0</td>\n",
       "      <td>230.0</td>\n",
       "      <td>100.0</td>\n",
       "      <td>102.0</td>\n",
       "    </tr>\n",
       "    <tr>\n",
       "      <th>2</th>\n",
       "      <td>2.0</td>\n",
       "      <td>2.0</td>\n",
       "      <td>2.0</td>\n",
       "      <td>NaN</td>\n",
       "      <td>NaN</td>\n",
       "      <td>NaN</td>\n",
       "      <td>3.0</td>\n",
       "      <td>2.0</td>\n",
       "      <td>NaN</td>\n",
       "      <td>101.0</td>\n",
       "      <td>...</td>\n",
       "      <td>555.0</td>\n",
       "      <td>201.0</td>\n",
       "      <td>2.0</td>\n",
       "      <td>NaN</td>\n",
       "      <td>NaN</td>\n",
       "      <td>NaN</td>\n",
       "      <td>NaN</td>\n",
       "      <td>NaN</td>\n",
       "      <td>NaN</td>\n",
       "      <td>888.0</td>\n",
       "    </tr>\n",
       "    <tr>\n",
       "      <th>3</th>\n",
       "      <td>1.0</td>\n",
       "      <td>2.0</td>\n",
       "      <td>2.0</td>\n",
       "      <td>NaN</td>\n",
       "      <td>NaN</td>\n",
       "      <td>NaN</td>\n",
       "      <td>3.0</td>\n",
       "      <td>2.0</td>\n",
       "      <td>NaN</td>\n",
       "      <td>888.0</td>\n",
       "      <td>...</td>\n",
       "      <td>NaN</td>\n",
       "      <td>NaN</td>\n",
       "      <td>NaN</td>\n",
       "      <td>NaN</td>\n",
       "      <td>NaN</td>\n",
       "      <td>NaN</td>\n",
       "      <td>NaN</td>\n",
       "      <td>NaN</td>\n",
       "      <td>NaN</td>\n",
       "      <td>NaN</td>\n",
       "    </tr>\n",
       "    <tr>\n",
       "      <th>4</th>\n",
       "      <td>2.0</td>\n",
       "      <td>2.0</td>\n",
       "      <td>1.0</td>\n",
       "      <td>3.0</td>\n",
       "      <td>NaN</td>\n",
       "      <td>1.0</td>\n",
       "      <td>3.0</td>\n",
       "      <td>2.0</td>\n",
       "      <td>NaN</td>\n",
       "      <td>888.0</td>\n",
       "      <td>...</td>\n",
       "      <td>201.0</td>\n",
       "      <td>303.0</td>\n",
       "      <td>2.0</td>\n",
       "      <td>NaN</td>\n",
       "      <td>NaN</td>\n",
       "      <td>NaN</td>\n",
       "      <td>NaN</td>\n",
       "      <td>NaN</td>\n",
       "      <td>NaN</td>\n",
       "      <td>888.0</td>\n",
       "    </tr>\n",
       "  </tbody>\n",
       "</table>\n",
       "<p>5 rows × 27 columns</p>\n",
       "</div>"
      ],
      "text/plain": [
       "   chcscncr  chcocncr  smoke100  smokday2  stopsmk2  lastsmk2  usenow3  \\\n",
       "0       2.0       2.0       2.0       NaN       NaN       NaN      3.0   \n",
       "1       2.0       2.0       2.0       NaN       NaN       NaN      3.0   \n",
       "2       2.0       2.0       2.0       NaN       NaN       NaN      3.0   \n",
       "3       1.0       2.0       2.0       NaN       NaN       NaN      3.0   \n",
       "4       2.0       2.0       1.0       3.0       NaN       1.0      3.0   \n",
       "\n",
       "   ecigaret  ecignow  alcday5    ...     potatoe1  vegetab2  exerany2  \\\n",
       "0       2.0      NaN    888.0    ...        201.0     101.0       1.0   \n",
       "1       2.0      NaN    888.0    ...        555.0     101.0       1.0   \n",
       "2       2.0      NaN    101.0    ...        555.0     201.0       2.0   \n",
       "3       2.0      NaN    888.0    ...          NaN       NaN       NaN   \n",
       "4       2.0      NaN    888.0    ...        201.0     303.0       2.0   \n",
       "\n",
       "   exract11  exeroft1  exerhmm1  exract21  exeroft2  exerhmm2  strength  \n",
       "0       6.0     103.0      30.0      54.0     103.0      30.0     103.0  \n",
       "1      34.0     102.0     100.0      64.0     230.0     100.0     102.0  \n",
       "2       NaN       NaN       NaN       NaN       NaN       NaN     888.0  \n",
       "3       NaN       NaN       NaN       NaN       NaN       NaN       NaN  \n",
       "4       NaN       NaN       NaN       NaN       NaN       NaN     888.0  \n",
       "\n",
       "[5 rows x 27 columns]"
      ]
     },
     "execution_count": 194,
     "metadata": {},
     "output_type": "execute_result"
    }
   ],
   "source": [
    "canset.head()"
   ]
  },
  {
   "cell_type": "code",
   "execution_count": 195,
   "metadata": {},
   "outputs": [],
   "source": [
    "canset.drop(axis=1, labels=['exract11','exract21'], inplace=True) #Removing which type of activity variable, too many nulls"
   ]
  },
  {
   "cell_type": "markdown",
   "metadata": {},
   "source": [
    "#### Changing labels 1 and 2 to 1 and 0, 1 being the positive label:"
   ]
  },
  {
   "cell_type": "code",
   "execution_count": 196,
   "metadata": {},
   "outputs": [],
   "source": [
    "canset['chcscncr']=canset['chcscncr'].replace(2,0)  \n",
    "canset['chcocncr']=canset['chcocncr'].replace(2,0)"
   ]
  },
  {
   "cell_type": "code",
   "execution_count": 197,
   "metadata": {},
   "outputs": [
    {
     "data": {
      "text/plain": [
       "450642"
      ]
     },
     "execution_count": 197,
     "metadata": {},
     "output_type": "execute_result"
    }
   ],
   "source": [
    "canset.shape[0] #No. of records"
   ]
  },
  {
   "cell_type": "markdown",
   "metadata": {},
   "source": [
    "#### Replacing Unknown/dont know values to nan and then dropping the rows where target variable 'CHCSCNCR' = nan"
   ]
  },
  {
   "cell_type": "code",
   "execution_count": 198,
   "metadata": {},
   "outputs": [],
   "source": [
    "canset['chcscncr'] = canset['chcscncr'].replace(7, np.nan)\n",
    "canset['chcscncr'] = canset['chcscncr'].replace(9, np.nan)\n",
    "\n",
    "canset['chcocncr'] = canset['chcocncr'].replace(7, np.nan)\n",
    "canset['chcocncr'] = canset['chcocncr'].replace(9, np.nan)\n",
    "\n",
    "canset = canset.dropna(axis=0, subset=['chcocncr'])\n",
    "canset = canset.dropna(axis=0, subset=['chcscncr'])"
   ]
  },
  {
   "cell_type": "markdown",
   "metadata": {},
   "source": [
    "#### Filling Nan and missing values with the mode of that variable"
   ]
  },
  {
   "cell_type": "code",
   "execution_count": 199,
   "metadata": {},
   "outputs": [],
   "source": [
    "cols=list(canset.columns[2:]) #all columns except the target variables"
   ]
  },
  {
   "cell_type": "code",
   "execution_count": 200,
   "metadata": {},
   "outputs": [],
   "source": [
    "for col in cols:\n",
    "    canset[col] = canset[col].replace(888,0)\n",
    "    canset[col] = canset[col].replace(88,0)\n",
    "    canset[col] = canset[col].replace(777, np.nan)\n",
    "    canset[col] = canset[col].replace(999, np.nan)\n",
    "    canset[col] = canset[col].replace(77, np.nan)\n",
    "    canset[col] = canset[col].replace(99, np.nan)\n",
    "    if col!='lastsmk2':\n",
    "        canset[col] = canset[col].replace(7, np.nan)\n",
    "\n",
    "    canset[col] = canset[col].replace(9, np.nan)\n",
    "    \n",
    "    canset = canset.fillna(canset[col].mode()[0])"
   ]
  },
  {
   "cell_type": "markdown",
   "metadata": {},
   "source": [
    "#### Changing per day, per week to per month:"
   ]
  },
  {
   "cell_type": "code",
   "execution_count": 201,
   "metadata": {},
   "outputs": [],
   "source": [
    "filter1= (canset.alcday5 >= 101) & (canset.alcday5 <=107)\n",
    "canset.loc[filter1, 'alcday5']=(canset.alcday5[filter1] - 100)*4     #changing day to per month\n",
    "filter2= (canset.alcday5 >= 201) & (canset.alcday5 <=230)\n",
    "canset.loc[filter2, 'alcday5']=(canset.alcday5[filter2] - 200)"
   ]
  },
  {
   "cell_type": "code",
   "execution_count": 202,
   "metadata": {},
   "outputs": [],
   "source": [
    "\n",
    "cols2=['fruit2','fruitju2','fvgreen1','frenchf1','potatoe1','vegetab2']\n",
    "for cols in cols2:\n",
    "    filter1= (canset[cols] >= 101) & (canset[cols] <=199)\n",
    "    canset.loc[filter1, cols]=(canset[cols][filter1] - 100)*30     #changing per day to per month\n",
    "    filter2= (canset[cols] >= 201) & (canset[cols] <=299)\n",
    "    canset.loc[filter2, cols]=(canset[cols][filter2] - 200)*4     #changing per week to per month\n",
    "    filter3=(canset[cols] >= 301) & (canset[cols] <=399)\n",
    "    canset.loc[filter3, cols]=(canset[cols][filter3] - 300)       #keeping per month as it is just removing 3__\n",
    "    canset[cols] = canset[cols].replace(555,0)\n",
    "\n",
    "    "
   ]
  },
  {
   "cell_type": "markdown",
   "metadata": {},
   "source": [
    "#### Adding no. of hours in primary activity with other activity and dropping the other activity time:"
   ]
  },
  {
   "cell_type": "code",
   "execution_count": 203,
   "metadata": {},
   "outputs": [],
   "source": [
    "canset.loc[:,'exerhmm1']=canset.exerhmm1 + canset.exerhmm2        \n",
    "            "
   ]
  },
  {
   "cell_type": "code",
   "execution_count": 204,
   "metadata": {},
   "outputs": [],
   "source": [
    "canset.drop(axis=1, labels=['exerhmm2'], inplace=True)"
   ]
  },
  {
   "cell_type": "code",
   "execution_count": 205,
   "metadata": {},
   "outputs": [],
   "source": [
    "from sklearn.linear_model import LogisticRegression\n",
    "from sklearn.model_selection import train_test_split\n",
    "from sklearn import tree\n",
    "from sklearn.tree import DecisionTreeClassifier\n"
   ]
  },
  {
   "cell_type": "code",
   "execution_count": 206,
   "metadata": {},
   "outputs": [
    {
     "name": "stdout",
     "output_type": "stream",
     "text": [
      "(448560, 24)\n"
     ]
    }
   ],
   "source": [
    "print(canset.shape)"
   ]
  },
  {
   "cell_type": "markdown",
   "metadata": {},
   "source": [
    "#### Standardizing numerical values:"
   ]
  },
  {
   "cell_type": "code",
   "execution_count": 207,
   "metadata": {},
   "outputs": [],
   "source": [
    "for col in list(canset.columns[9:]):\n",
    "    canset[col]=(canset[col]-canset[col].mean())/canset[col].std()"
   ]
  },
  {
   "cell_type": "code",
   "execution_count": 208,
   "metadata": {},
   "outputs": [],
   "source": [
    "X = canset.values[:,2:27]   #Independent variables\n",
    "Y = canset.values[:,0]      #Dependent variable"
   ]
  },
  {
   "cell_type": "markdown",
   "metadata": {},
   "source": [
    "#### Splitting in Testing and Training sets:"
   ]
  },
  {
   "cell_type": "code",
   "execution_count": 209,
   "metadata": {},
   "outputs": [],
   "source": [
    "xtrain,xtest, ytrain, ytest = train_test_split(X,Y, test_size=0.25, stratify=Y)"
   ]
  },
  {
   "cell_type": "markdown",
   "metadata": {},
   "source": [
    "#### Fitting a decision tree classifier:"
   ]
  },
  {
   "cell_type": "code",
   "execution_count": 210,
   "metadata": {},
   "outputs": [
    {
     "data": {
      "text/plain": [
       "DecisionTreeClassifier(class_weight=None, criterion='gini', max_depth=None,\n",
       "            max_features=10, max_leaf_nodes=None,\n",
       "            min_impurity_decrease=0.0, min_impurity_split=None,\n",
       "            min_samples_leaf=1, min_samples_split=2,\n",
       "            min_weight_fraction_leaf=0.0, presort=False, random_state=None,\n",
       "            splitter='best')"
      ]
     },
     "execution_count": 210,
     "metadata": {},
     "output_type": "execute_result"
    }
   ],
   "source": [
    "tree_clf = DecisionTreeClassifier(criterion= \"gini\", splitter='best', max_features=10) \n",
    "#tried the model with different no. of features and got very similar results\n",
    "tree_clf.fit(xtrain,ytrain)"
   ]
  },
  {
   "cell_type": "markdown",
   "metadata": {},
   "source": [
    "#### Predicting the outcome of the test case:"
   ]
  },
  {
   "cell_type": "code",
   "execution_count": 211,
   "metadata": {},
   "outputs": [],
   "source": [
    "prediction = tree_clf.predict(xtest)"
   ]
  },
  {
   "cell_type": "markdown",
   "metadata": {},
   "source": [
    "#### Roc Curve"
   ]
  },
  {
   "cell_type": "code",
   "execution_count": 212,
   "metadata": {},
   "outputs": [],
   "source": [
    "fpr, tpr, threshold = roc_curve(y_true=ytest, y_score=prediction, pos_label=1)"
   ]
  },
  {
   "cell_type": "code",
   "execution_count": 213,
   "metadata": {},
   "outputs": [
    {
     "data": {
      "image/png": "[encoded data removed]",
      "text/plain": [
       "<Figure size 432x288 with 1 Axes>"
      ]
     },
     "metadata": {},
     "output_type": "display_data"
    }
   ],
   "source": [
    "# Show curve\n",
    "\n",
    "plt.clf()\n",
    "plt.plot(fpr,tpr)\n",
    "plt.xlabel('FPR')\n",
    "plt.ylabel('TPR')\n",
    "plt.title('ROC Curve')\n",
    "plt.show()"
   ]
  },
  {
   "cell_type": "markdown",
   "metadata": {},
   "source": [
    "#### AUC:"
   ]
  },
  {
   "cell_type": "code",
   "execution_count": 221,
   "metadata": {},
   "outputs": [
    {
     "data": {
      "text/plain": [
       "0.5"
      ]
     },
     "execution_count": 221,
     "metadata": {},
     "output_type": "execute_result"
    }
   ],
   "source": [
    "roc_auc_score(ytest, prediction)"
   ]
  },
  {
   "cell_type": "markdown",
   "metadata": {},
   "source": [
    "#### Using Logistic Regression:"
   ]
  },
  {
   "cell_type": "code",
   "execution_count": 215,
   "metadata": {},
   "outputs": [],
   "source": [
    "log_clf= LogisticRegression()\n",
    "rfe_o = RFE(log_clf,5)\n",
    "fit_o = rfe_o.fit(xtrain,ytrain)"
   ]
  },
  {
   "cell_type": "code",
   "execution_count": 216,
   "metadata": {},
   "outputs": [
    {
     "name": "stdout",
     "output_type": "stream",
     "text": [
      "5\n",
      "[ True  True False  True False  True False False False False  True False\n",
      " False False False False False False False False False False]\n",
      "[ 1  1  8  1  3  1  4  2  5 13  1 14 11 18 17 16 15 10  9 12  6  7]\n"
     ]
    }
   ],
   "source": [
    "print(fit_o.n_features_)\n",
    "print(fit_o.support_)\n",
    "print(fit_o.ranking_)"
   ]
  },
  {
   "cell_type": "markdown",
   "metadata": {},
   "source": [
    "#### Predicting on Test set:"
   ]
  },
  {
   "cell_type": "code",
   "execution_count": 217,
   "metadata": {},
   "outputs": [],
   "source": [
    "prediction = fit_o.predict(xtest)"
   ]
  },
  {
   "cell_type": "markdown",
   "metadata": {},
   "source": [
    "#### ROC Curve:"
   ]
  },
  {
   "cell_type": "code",
   "execution_count": 218,
   "metadata": {},
   "outputs": [],
   "source": [
    "#ROC Curve\n",
    "fpr, tpr, threshold = roc_curve(y_true=ytest, y_score=prediction, pos_label=1)"
   ]
  },
  {
   "cell_type": "code",
   "execution_count": 219,
   "metadata": {},
   "outputs": [
    {
     "data": {
      "image/png": "[encoded data removed]",
      "text/plain": [
       "<Figure size 432x288 with 1 Axes>"
      ]
     },
     "metadata": {},
     "output_type": "display_data"
    }
   ],
   "source": [
    "# Show curve\n",
    "plt.clf()\n",
    "plt.plot(fpr,tpr)\n",
    "plt.xlabel('FPR')\n",
    "plt.ylabel('TPR')\n",
    "plt.title('ROC Curve')\n",
    "plt.show()"
   ]
  },
  {
   "cell_type": "markdown",
   "metadata": {},
   "source": [
    "#### AUC:"
   ]
  },
  {
   "cell_type": "code",
   "execution_count": 220,
   "metadata": {},
   "outputs": [
    {
     "data": {
      "text/plain": [
       "0.5"
      ]
     },
     "execution_count": 220,
     "metadata": {},
     "output_type": "execute_result"
    }
   ],
   "source": [
    "roc_auc_score(ytest, prediction)"
   ]
  },
  {
   "cell_type": "markdown",
   "metadata": {},
   "source": [
    "#### As the auc value for both decision tree classifier as well as logistic regression is around 0.5, we can say that the data features have no effect on the target variable, i.e. Chcscncr"
   ]
  }
 ],
 "metadata": {
  "kernelspec": {
   "display_name": "Python 3",
   "language": "python",
   "name": "python3"
  },
  "language_info": {
   "codemirror_mode": {
    "name": "ipython",
    "version": 3
   },
   "file_extension": ".py",
   "mimetype": "text/x-python",
   "name": "python",
   "nbconvert_exporter": "python",
   "pygments_lexer": "ipython3",
   "version": "3.6.5"
  }
 },
 "nbformat": 4,
 "nbformat_minor": 2
}
